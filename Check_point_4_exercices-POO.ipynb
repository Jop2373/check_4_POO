{
 "cells": [
  {
   "cell_type": "code",
   "execution_count": 10,
   "id": "02853e0c",
   "metadata": {},
   "outputs": [
    {
     "name": "stdout",
     "output_type": "stream",
     "text": [
      "(1, 2, 3)\n"
     ]
    }
   ],
   "source": [
    "# exerciceN°1: POINT3D\n",
    "\n",
    "class Point3D():\n",
    "    def point(x,y,z):\n",
    "        return (x,y,z)\n",
    "    \n",
    "my_point=Point3D.point(1,2,3)\n",
    "print(my_point)"
   ]
  },
  {
   "cell_type": "code",
   "execution_count": 67,
   "id": "c953ff37",
   "metadata": {},
   "outputs": [
    {
     "name": "stdout",
     "output_type": "stream",
     "text": [
      "12\n",
      "14\n"
     ]
    }
   ],
   "source": [
    "# Exercice2\n",
    "\n",
    "class rect:\n",
    "    def __init__(self,longueur,largeur):\n",
    "        self.longueur=longueur\n",
    "        self.largeur=largeur\n",
    "        \n",
    "    def air(self):\n",
    "        return self.longueur*self.largeur\n",
    "    \n",
    "    def perim(self):\n",
    "        return (self.longueur+ self.largeur)*2\n",
    "    \n",
    "rectangle=rect(4,3)\n",
    "print(rectangle.air())\n",
    "print(rectangle.perim())"
   ]
  },
  {
   "cell_type": "code",
   "execution_count": 4,
   "id": "126a2804",
   "metadata": {},
   "outputs": [
    {
     "name": "stdout",
     "output_type": "stream",
     "text": [
      "(45, 14)\n",
      "(30, 14)\n",
      "le point n'appartient pas au cercle\n"
     ]
    }
   ],
   "source": [
    "# exercice3\n",
    "class cercle:\n",
    "    def __init__(self,centre,Rayon):\n",
    "        self.centre=centre\n",
    "        self.Rayon=Rayon\n",
    "        \n",
    "    def airc(self):\n",
    "        return self.centre*self.Rayon*3,14\n",
    "    \n",
    "    def perimc(self):\n",
    "        return 2*self.Rayon*3,14\n",
    "    \n",
    "    def inside(self,b:tuple):\n",
    "        if b[0]**2+ b[1]**2==self.Rayon**2:\n",
    "            return \"le point appartient au cercle\"\n",
    "        else:\n",
    "            return \"le point n'appartient pas au cercle\"\n",
    "\n",
    "a=cercle(3,5)\n",
    "print(a.airc())\n",
    "print(a.perimc())\n",
    "N=(2,3)\n",
    "print(a.inside(N))"
   ]
  },
  {
   "cell_type": "code",
   "execution_count": 72,
   "id": "17e4f1e9",
   "metadata": {},
   "outputs": [
    {
     "name": "stdout",
     "output_type": "stream",
     "text": [
      "1000\n"
     ]
    }
   ],
   "source": [
    "# exercice4\n",
    "class bank:\n",
    "    def __init__(self,depot,retrait):\n",
    "        self.depot= depot\n",
    "        self.retrait=retrait\n",
    "    def equilibre(self):\n",
    "        return self.depot-self.retrait\n",
    "    \n",
    "solde=bank(3000,2000)\n",
    "print(solde.equilibre())"
   ]
  }
 ],
 "metadata": {
  "kernelspec": {
   "display_name": "Python 3 (ipykernel)",
   "language": "python",
   "name": "python3"
  },
  "language_info": {
   "codemirror_mode": {
    "name": "ipython",
    "version": 3
   },
   "file_extension": ".py",
   "mimetype": "text/x-python",
   "name": "python",
   "nbconvert_exporter": "python",
   "pygments_lexer": "ipython3",
   "version": "3.9.13"
  }
 },
 "nbformat": 4,
 "nbformat_minor": 5
}
